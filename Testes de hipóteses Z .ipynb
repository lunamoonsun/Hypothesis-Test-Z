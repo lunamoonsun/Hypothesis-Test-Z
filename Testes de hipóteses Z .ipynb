{
 "cells": [
  {
   "cell_type": "markdown",
   "id": "8bd2d237",
   "metadata": {},
   "source": [
    "# Teste de Hipotese - Z"
   ]
  },
  {
   "cell_type": "code",
   "execution_count": 31,
   "id": "b18b3bff",
   "metadata": {},
   "outputs": [],
   "source": [
    "import numpy as np\n",
    "import math\n",
    "from scipy.stats import norm\n",
    "from scipy.stats import ttest_rel"
   ]
  },
  {
   "cell_type": "code",
   "execution_count": 2,
   "id": "b82bb710",
   "metadata": {},
   "outputs": [],
   "source": [
    "dados_originais = np.array([126. , 129.5, 133. , 133. , 136.5, 136.5, 140. , 140. , 140. ,\n",
    "                            140. , 143.5, 143.5, 143.5, 143.5, 143.5, 143.5, 147. , 147. ,\n",
    "                            147. , 147. , 147. , 147. , 147. , 150.5, 150.5, 150.5, 150.5,\n",
    "                            150.5, 150.5, 150.5, 150.5, 154. , 154. , 154. , 154. , 154. ,\n",
    "                            154. , 154. , 154. , 154. , 157.5, 157.5, 157.5, 157.5, 157.5,\n",
    "                            157.5, 157.5, 157.5, 157.5, 157.5, 161. , 161. , 161. , 161. ,\n",
    "                            161. , 161. , 161. , 161. , 161. , 161. , 164.5, 164.5, 164.5,\n",
    "                            164.5, 164.5, 164.5, 164.5, 164.5, 164.5, 168. , 168. , 168. ,\n",
    "                            168. , 168. , 168. , 168. , 168. , 171.5, 171.5, 171.5, 171.5,\n",
    "                            171.5, 171.5, 171.5, 175. , 175. , 175. , 175. , 175. , 175. ,\n",
    "                            178.5, 178.5, 178.5, 178.5, 182. , 182. , 185.5, 185.5, 189., 192.5])"
   ]
  },
  {
   "cell_type": "code",
   "execution_count": 3,
   "id": "7bd866fb",
   "metadata": {},
   "outputs": [
    {
     "data": {
      "text/plain": [
       "159.25"
      ]
     },
     "execution_count": 3,
     "metadata": {},
     "output_type": "execute_result"
    }
   ],
   "source": [
    "# Media das alturas de 2019\n",
    "H0_media = np.mean(dados_originais) # Hipotese nula ou valor ja existente\n",
    "H0_media"
   ]
  },
  {
   "cell_type": "code",
   "execution_count": 4,
   "id": "e202c736",
   "metadata": {},
   "outputs": [
    {
     "data": {
      "text/plain": [
       "13.65"
      ]
     },
     "execution_count": 4,
     "metadata": {},
     "output_type": "execute_result"
    }
   ],
   "source": [
    "H0_desvio_padrao = np.std(dados_originais)\n",
    "H0_desvio_padrao"
   ]
  },
  {
   "cell_type": "code",
   "execution_count": 5,
   "id": "2dd0cb38",
   "metadata": {},
   "outputs": [
    {
     "data": {
      "text/plain": [
       "array([129.78 , 133.385, 136.99 , 136.99 , 140.595, 140.595, 144.2  ,\n",
       "       144.2  , 144.2  , 144.2  , 147.805, 147.805, 147.805, 147.805,\n",
       "       147.805, 147.805, 151.41 , 151.41 , 151.41 , 151.41 , 151.41 ,\n",
       "       151.41 , 151.41 , 155.015, 155.015, 155.015, 155.015, 155.015,\n",
       "       155.015, 155.015, 155.015, 158.62 , 158.62 , 158.62 , 158.62 ,\n",
       "       158.62 , 158.62 , 158.62 , 158.62 , 158.62 , 162.225, 162.225,\n",
       "       162.225, 162.225, 162.225, 162.225, 162.225, 162.225, 162.225,\n",
       "       162.225, 165.83 , 165.83 , 165.83 , 165.83 , 165.83 , 165.83 ,\n",
       "       165.83 , 165.83 , 165.83 , 165.83 , 169.435, 169.435, 169.435,\n",
       "       169.435, 169.435, 169.435, 169.435, 169.435, 169.435, 173.04 ,\n",
       "       173.04 , 173.04 , 173.04 , 173.04 , 173.04 , 173.04 , 173.04 ,\n",
       "       176.645, 176.645, 176.645, 176.645, 176.645, 176.645, 176.645,\n",
       "       180.25 , 180.25 , 180.25 , 180.25 , 180.25 , 180.25 , 183.855,\n",
       "       183.855, 183.855, 183.855, 187.46 , 187.46 , 191.065, 191.065,\n",
       "       194.67 , 198.275])"
      ]
     },
     "execution_count": 5,
     "metadata": {},
     "output_type": "execute_result"
    }
   ],
   "source": [
    "# Validando os valores das alturas, pois, agora temos novos dados para o ano de 2020\n",
    "dados_novos = dados_originais * 1.03 # fazendo uma simulação para ter uma mudança dos valores\n",
    "dados_novos"
   ]
  },
  {
   "cell_type": "code",
   "execution_count": 6,
   "id": "d3d4212b",
   "metadata": {},
   "outputs": [
    {
     "data": {
      "text/plain": [
       "164.0275"
      ]
     },
     "execution_count": 6,
     "metadata": {},
     "output_type": "execute_result"
    }
   ],
   "source": [
    "H1_media = np.mean(dados_novos)\n",
    "H1_media"
   ]
  },
  {
   "cell_type": "markdown",
   "id": "8e1957c1",
   "metadata": {},
   "source": [
    "Logo ouve a mudança da média"
   ]
  },
  {
   "cell_type": "code",
   "execution_count": 8,
   "id": "285973d7",
   "metadata": {},
   "outputs": [
    {
     "data": {
      "text/plain": [
       "14.0595"
      ]
     },
     "execution_count": 8,
     "metadata": {},
     "output_type": "execute_result"
    }
   ],
   "source": [
    "H1_std = np.std(dados_novos)\n",
    "H1_std"
   ]
  },
  {
   "cell_type": "code",
   "execution_count": 10,
   "id": "ef8a0257",
   "metadata": {},
   "outputs": [
    {
     "data": {
      "text/plain": [
       "100"
      ]
     },
     "execution_count": 10,
     "metadata": {},
     "output_type": "execute_result"
    }
   ],
   "source": [
    "H1_n = len(dados_novos)\n",
    "H1_n"
   ]
  },
  {
   "cell_type": "code",
   "execution_count": 11,
   "id": "0f0f783c",
   "metadata": {},
   "outputs": [],
   "source": [
    "alpha = 0.05 # nível de confiança"
   ]
  },
  {
   "cell_type": "markdown",
   "id": "1f9e335f",
   "metadata": {},
   "source": [
    "### Teste manual"
   ]
  },
  {
   "cell_type": "code",
   "execution_count": 12,
   "id": "7cfb9598",
   "metadata": {},
   "outputs": [
    {
     "data": {
      "text/plain": [
       "3.398058252427187"
      ]
     },
     "execution_count": 12,
     "metadata": {},
     "output_type": "execute_result"
    }
   ],
   "source": [
    "Z = (H1_media - H0_media)/(H1_std/ math.sqrt(H1_n))\n",
    "Z"
   ]
  },
  {
   "cell_type": "markdown",
   "id": "3a4cfac7",
   "metadata": {},
   "source": [
    "Consultando a tabela Z:"
   ]
  },
  {
   "cell_type": "code",
   "execution_count": 15,
   "id": "f743a440",
   "metadata": {},
   "outputs": [
    {
     "data": {
      "text/plain": [
       "0.9996606701617486"
      ]
     },
     "execution_count": 15,
     "metadata": {},
     "output_type": "execute_result"
    }
   ],
   "source": [
    "norm.cdf(3.398058252427187) # probabilidade cumulativa"
   ]
  },
  {
   "cell_type": "code",
   "execution_count": 16,
   "id": "ff1bdeab",
   "metadata": {},
   "outputs": [
    {
     "data": {
      "text/plain": [
       "3.3980582524271936"
      ]
     },
     "execution_count": 16,
     "metadata": {},
     "output_type": "execute_result"
    }
   ],
   "source": [
    "norm.ppf(0.9996606701617486) # Buscando o valor de Z"
   ]
  },
  {
   "cell_type": "code",
   "execution_count": 17,
   "id": "fa5f516d",
   "metadata": {},
   "outputs": [
    {
     "data": {
      "text/plain": [
       "0.9996606701617486"
      ]
     },
     "execution_count": 17,
     "metadata": {},
     "output_type": "execute_result"
    }
   ],
   "source": [
    "Z = norm.cdf(Z)\n",
    "Z"
   ]
  },
  {
   "cell_type": "code",
   "execution_count": 18,
   "id": "fd80c022",
   "metadata": {},
   "outputs": [
    {
     "data": {
      "text/plain": [
       "0.00033932983825135654"
      ]
     },
     "execution_count": 18,
     "metadata": {},
     "output_type": "execute_result"
    }
   ],
   "source": [
    "p = 1 - Z \n",
    "p"
   ]
  },
  {
   "cell_type": "code",
   "execution_count": 20,
   "id": "2a52079e",
   "metadata": {},
   "outputs": [
    {
     "name": "stdout",
     "output_type": "stream",
     "text": [
      "Hipotese nula rejeitada. Logo, o novo valor será o cálculado.\n"
     ]
    }
   ],
   "source": [
    "if p < alpha:\n",
    "    print(\"Hipotese nula rejeitada. Logo, o novo valor será o cálculado.\")\n",
    "else:\n",
    "    print(\"A hipotese alternativa rejeitada.\")"
   ]
  },
  {
   "cell_type": "markdown",
   "id": "b9e4fc47",
   "metadata": {},
   "source": [
    "### Teste utilizando o statsmodels"
   ]
  },
  {
   "cell_type": "code",
   "execution_count": 21,
   "id": "c95b64ab",
   "metadata": {},
   "outputs": [],
   "source": [
    "from statsmodels.stats.weightstats import ztest"
   ]
  },
  {
   "cell_type": "code",
   "execution_count": 22,
   "id": "e4701976",
   "metadata": {},
   "outputs": [],
   "source": [
    "_, p = ztest(dados_originais, \n",
    "             dados_novos,\n",
    "             value = H1_media - H0_media, \n",
    "             alternative='larger')"
   ]
  },
  {
   "cell_type": "code",
   "execution_count": 23,
   "id": "16373431",
   "metadata": {},
   "outputs": [
    {
     "data": {
      "text/plain": [
       "0.9999993877283934"
      ]
     },
     "execution_count": 23,
     "metadata": {},
     "output_type": "execute_result"
    }
   ],
   "source": [
    "p"
   ]
  },
  {
   "cell_type": "code",
   "execution_count": 25,
   "id": "9c0bcad9",
   "metadata": {},
   "outputs": [
    {
     "name": "stdout",
     "output_type": "stream",
     "text": [
      "A hipotese alternativa rejeitada.\n"
     ]
    }
   ],
   "source": [
    "if p < alpha:\n",
    "    print(\"Hipotese nula rejeitada. Logo, o novo valor será o cálculado.\")\n",
    "else:\n",
    "    print(\"A hipotese alternativa rejeitada.\")"
   ]
  },
  {
   "cell_type": "markdown",
   "id": "036e5363",
   "metadata": {},
   "source": [
    "### Exercício"
   ]
  },
  {
   "cell_type": "code",
   "execution_count": 29,
   "id": "daaa0bcb",
   "metadata": {},
   "outputs": [
    {
     "data": {
      "text/plain": [
       "array([149., 160., 147., 189., 175., 168., 156., 160., 152.])"
      ]
     },
     "execution_count": 29,
     "metadata": {},
     "output_type": "execute_result"
    }
   ],
   "source": [
    "dados = np.array([149. , 160., 147., 189., 175., 168., 156., 160., 152.])\n",
    "dados"
   ]
  },
  {
   "cell_type": "code",
   "execution_count": 32,
   "id": "a6c2145f",
   "metadata": {},
   "outputs": [
    {
     "data": {
      "text/plain": [
       "array([193.7, 208. , 191.1, 245.7, 227.5, 218.4, 202.8, 208. , 197.6])"
      ]
     },
     "execution_count": 32,
     "metadata": {},
     "output_type": "execute_result"
    }
   ],
   "source": [
    "data = dados * 1.3\n",
    "data"
   ]
  },
  {
   "cell_type": "code",
   "execution_count": 34,
   "id": "8d5b6966",
   "metadata": {},
   "outputs": [],
   "source": [
    "_, p = ttest_rel(dados, data)"
   ]
  },
  {
   "cell_type": "code",
   "execution_count": 35,
   "id": "ab054c22",
   "metadata": {},
   "outputs": [
    {
     "data": {
      "text/plain": [
       "4.072922493929878e-10"
      ]
     },
     "execution_count": 35,
     "metadata": {},
     "output_type": "execute_result"
    }
   ],
   "source": [
    "p"
   ]
  },
  {
   "cell_type": "code",
   "execution_count": 36,
   "id": "9e86cade",
   "metadata": {},
   "outputs": [
    {
     "name": "stdout",
     "output_type": "stream",
     "text": [
      "Hipotese nula rejeitada\n"
     ]
    }
   ],
   "source": [
    "alpha = 0.01\n",
    "if p <= alpha:\n",
    "    print(\"Hipotese nula rejeitada\")\n",
    "else:\n",
    "    print(\"Hipotese alternativa rejeitada\")"
   ]
  },
  {
   "cell_type": "markdown",
   "id": "990fd639",
   "metadata": {},
   "source": [
    "Logo, considerariamos a hipotese nula rejeitada. Dessa forma, estariamos confirmando e aceitando a nova hipotese que estava sendo proposta."
   ]
  },
  {
   "cell_type": "code",
   "execution_count": null,
   "id": "641e49e3",
   "metadata": {},
   "outputs": [],
   "source": []
  }
 ],
 "metadata": {
  "kernelspec": {
   "display_name": "Python 3",
   "language": "python",
   "name": "python3"
  },
  "language_info": {
   "codemirror_mode": {
    "name": "ipython",
    "version": 3
   },
   "file_extension": ".py",
   "mimetype": "text/x-python",
   "name": "python",
   "nbconvert_exporter": "python",
   "pygments_lexer": "ipython3",
   "version": "3.8.8"
  }
 },
 "nbformat": 4,
 "nbformat_minor": 5
}
